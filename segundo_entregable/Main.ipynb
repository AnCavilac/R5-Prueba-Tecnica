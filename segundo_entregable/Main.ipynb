{
  "cells": [
    {
      "cell_type": "markdown",
      "metadata": {
        "id": "Xy6WZcWouN5L"
      },
      "source": [
        "# **Reporte de Calidad de Datos Taylor Swift Dataset**\n",
        "\n",
        "El conjunto de datos corresponde a la artista Taylor Swift, el cual fue extraído de la API de Spotify, proporciona información acerca de sus álbumes y pistas que se encuentran disponibles en la plataforma Spotify. A continuación una breve descripción de los campos pertenecientes al dataset:\n",
        "\n",
        "* disc_number: Número de disco al que partenece la pista.\n",
        "* duration_ms: Duración de la pista en milisegundos (ms).\n",
        "* explicit: Clasificación de contenido explicito en la pista.\n",
        "* track_number: Número de la pista en el álbum.\n",
        "* track_popularity: Puntuación de popularidad de la pista. Rango de medición de 0 a 100.\n",
        "* track_id: Identificador de la pista.\n",
        "* track_name: Nombre de la pista.\n",
        "* audio_features.danceability: Cuan bailable es la pista en función de elementos musicales que incluye el tempo, ritmo, fuerza del ritmo y regularidad general. Rango de medición de 0 a 1.\n",
        "* audio_features.energy: Cuan energetica es la canción medido en función del rango dinámico, volumen percibido, timbre y velocidad. Rango de medición de 0 a 1.\n",
        "* audio_features.key: Tonalidad de la pista. Rango de medición de 0 a 10.\n",
        "* audio_features.loudness: Volumen percibido de la pista en decibelios. Rango de medición de -60 a 0.\n",
        "* audio_features.mode:\n",
        "* audio_features.speechiness: Presencia de palabras cantadas en la pista. Rango de medición de 0 a 1.\n",
        "* audio_features.acousticness: Cuan acústica es la pista. Rango de medición de 0 a 1.\n",
        "* audio_features.instrumentalness: Presencia de elementos vocales en la pista.\n",
        "* audio_features.liveness: Clasificación de pista grabada en vivo o no. Rango de medición de 0 a 1.\n",
        "* audio_features.valence: Positividad percibida en la pista. Rango de medición de 0 a 1.\n",
        "* audio_features.tempo: Velocidad a la que se ejecuta la pista, medido en segundos.\n",
        "* audio_features.id: Identificador de las carácteristicas de audio de la pista.\n",
        "* audio_features.time_signature: Compás de la pista.\n",
        "* artist_id: Identificador del artista en la plataforma.\n",
        "* artist_name: Nombre del artista.\n",
        "* artist_popularity: Puntuación de popularidad en la plataforma.\n",
        "* album_id: Identificador del álbum.\n",
        "* album_name: Nombre del álbum.\n",
        "* album_release_date: Fecha de lanzamiento de la pista.\n",
        "* album_total_tracks: Número total de las pistas en el álbum."
      ]
    },
    {
      "cell_type": "markdown",
      "metadata": {
        "id": "p_DdlmVbxIZt"
      },
      "source": [
        "## **Hallazgos**\n",
        "\n",
        "En esta sección serán expuestos los descubrimientos derivados de la exploración de la información suministrada, acompañado del código utilizado y los resultados obtenidos.\n",
        "\n",
        "### 1. Valores vacíos\n"
      ]
    },
    {
      "cell_type": "code",
      "execution_count": 2,
      "metadata": {
        "id": "S1QDujZ8ue5b"
      },
      "outputs": [],
      "source": [
        "import pandas as pd\n",
        "\n",
        "df = pd.read_csv('../primer_entregable/dataset.csv')\n",
        "\n",
        "conteo_null = df.isnull().sum()\n",
        "\n",
        "valores_nulos = conteo_null[conteo_null > 0]\n",
        "\n",
        "valores_nulos = pd.DataFrame({'Columna': valores_nulos.index, 'Cantidad': valores_nulos.values})"
      ]
    },
    {
      "cell_type": "markdown",
      "metadata": {
        "id": "fR_JvxRK1XMN"
      },
      "source": [
        "La tabla presenta la cantidad de valores nulos que se encuentran en cada columna del dataset. Cada fila de la tabla representa una columna, y la columna **Cantidad** indica cuántos valores nulos están presentes en esa columna."
      ]
    },
    {
      "cell_type": "code",
      "execution_count": 3,
      "metadata": {
        "colab": {
          "base_uri": "https://localhost:8080/",
          "height": 460
        },
        "id": "S-wZs2rH2Up0",
        "outputId": "dd8d7af3-337d-4da0-9e78-30c07f9909c2"
      },
      "outputs": [
        {
          "data": {
            "text/html": [
              "<table border=\"1\" class=\"dataframe\">\n",
              "  <thead>\n",
              "    <tr style=\"text-align: right;\">\n",
              "      <th>Columna</th>\n",
              "      <th>Cantidad</th>\n",
              "    </tr>\n",
              "  </thead>\n",
              "  <tbody>\n",
              "    <tr>\n",
              "      <td>track_id</td>\n",
              "      <td>8</td>\n",
              "    </tr>\n",
              "    <tr>\n",
              "      <td>track_name</td>\n",
              "      <td>7</td>\n",
              "    </tr>\n",
              "    <tr>\n",
              "      <td>audio_features.danceability</td>\n",
              "      <td>2</td>\n",
              "    </tr>\n",
              "    <tr>\n",
              "      <td>audio_features.energy</td>\n",
              "      <td>2</td>\n",
              "    </tr>\n",
              "    <tr>\n",
              "      <td>audio_features.key</td>\n",
              "      <td>1</td>\n",
              "    </tr>\n",
              "    <tr>\n",
              "      <td>audio_features.loudness</td>\n",
              "      <td>2</td>\n",
              "    </tr>\n",
              "    <tr>\n",
              "      <td>audio_features.speechiness</td>\n",
              "      <td>1</td>\n",
              "    </tr>\n",
              "    <tr>\n",
              "      <td>audio_features.acousticness</td>\n",
              "      <td>1</td>\n",
              "    </tr>\n",
              "    <tr>\n",
              "      <td>audio_features.liveness</td>\n",
              "      <td>1</td>\n",
              "    </tr>\n",
              "    <tr>\n",
              "      <td>audio_features.tempo</td>\n",
              "      <td>1</td>\n",
              "    </tr>\n",
              "    <tr>\n",
              "      <td>audio_features.time_signature</td>\n",
              "      <td>1</td>\n",
              "    </tr>\n",
              "    <tr>\n",
              "      <td>album_name</td>\n",
              "      <td>62</td>\n",
              "    </tr>\n",
              "  </tbody>\n",
              "</table>"
            ],
            "text/plain": [
              "<IPython.core.display.HTML object>"
            ]
          },
          "metadata": {},
          "output_type": "display_data"
        },
        {
          "name": "stdout",
          "output_type": "stream",
          "text": [
            "\n",
            "Cantidad total de valores nulos: 89\n"
          ]
        }
      ],
      "source": [
        "from IPython.core.display import HTML\n",
        "\n",
        "html_str = valores_nulos.to_html(index=False)\n",
        "\n",
        "display(HTML(html_str))\n",
        "\n",
        "total_nulos = valores_nulos['Cantidad'].sum()\n",
        "\n",
        "print(f\"\\nCantidad total de valores nulos: {total_nulos}\")"
      ]
    },
    {
      "cell_type": "markdown",
      "metadata": {
        "id": "9P2Y1ZvE45mT"
      },
      "source": [
        "## 2. Valores duplicados"
      ]
    },
    {
      "cell_type": "code",
      "execution_count": 4,
      "metadata": {
        "id": "URFU0cfiw6ga"
      },
      "outputs": [],
      "source": [
        "registros_duplicados = df[df.duplicated(subset=['audio_features.id'], keep=False)]\n",
        "\n",
        "identificadores_repetidos = registros_duplicados['audio_features.id'].unique()"
      ]
    },
    {
      "cell_type": "markdown",
      "metadata": {
        "id": "LIxXVTI-58QH"
      },
      "source": [
        "La presencia de duplicados sugiere posibles problemas durante la recolección de datos, puesto que cada identificador debería ser único para garantizar la integridad de la información en el conjunto de datos.\n",
        "\n",
        "A continuación se presentan los identificadores duplicados de las pistas:"
      ]
    },
    {
      "cell_type": "code",
      "execution_count": 5,
      "metadata": {
        "colab": {
          "base_uri": "https://localhost:8080/"
        },
        "id": "_Ztsc0Za7S6A",
        "outputId": "3b37f821-8f66-43f3-9673-ad87729fd078"
      },
      "outputs": [
        {
          "name": "stdout",
          "output_type": "stream",
          "text": [
            "3xYJScVfxByb61dYHTwiby, 43rA71bccXFGD4C8GOpIlN, 1BxfuPKGuaTgP7aM0Bbdwr, 1dGr1c8CrMLDpV6mPbImSI, 3RauEVgRgj1IuWdJ9fDs70, 3pHkh7d0lzM2AldUtz2x37, 2YWtcWi3a83pdEg3Gif4Pd, 214nt20w5wOxJnY462klLw, 4y5bvROuBDPr5fuwXbIBZR, 12M5uqx0ZuwkpLp5rJim1a, 2dgFqt3w9xIQRjhPtwNk3D, 1LLXZFeAHK9R4xUramtUKw, 4AYtqFyFbX0Xkc2wtcygTr, 5hQSXkFgbxjZo9uCwd11so, 6RRNNciQGZEXnqk8SQ9yv5, 1SymEzIT3H8UZfibCs3TYi, 2Rk4JlNc2TPmZe2af99d45, 1SmiQ65iSAbPto6gPFlBYm, 1fzAuUVbzlhZ1lJAx9PtY6, 1ZY1PqizIl78geGM4xWlEA\n",
            "\n",
            "Cantidad total de registros duplicados: 20\n"
          ]
        }
      ],
      "source": [
        "print(', '.join(map(str, identificadores_repetidos)))\n",
        "\n",
        "total_duplicados = len(identificadores_repetidos)\n",
        "\n",
        "print(f'\\nCantidad total de registros duplicados: {total_duplicados}')"
      ]
    },
    {
      "cell_type": "markdown",
      "metadata": {
        "id": "vUIZKtdrFUKG"
      },
      "source": [
        "##3. Integridad de Datos\n",
        "\n",
        "Verificación de la consistencia de los datos en las columnas. Para columnas númericas, identifica valores fuera del rango mínimo y máximo, por otra parte, para columnas de texto, destaca aquellos datos que no cumplan con los críterios."
      ]
    },
    {
      "cell_type": "code",
      "execution_count": 6,
      "metadata": {
        "colab": {
          "base_uri": "https://localhost:8080/",
          "height": 272
        },
        "id": "huApA9jdF8l9",
        "outputId": "5d147458-519f-4d76-8c13-95b7ad5991e8"
      },
      "outputs": [
        {
          "data": {
            "text/html": [
              "<table border=\"1\" class=\"dataframe\">\n",
              "  <thead>\n",
              "    <tr style=\"text-align: right;\">\n",
              "      <th>Columna</th>\n",
              "      <th>Valores Fuera de Rango</th>\n",
              "    </tr>\n",
              "  </thead>\n",
              "  <tbody>\n",
              "    <tr>\n",
              "      <td>duration_ms</td>\n",
              "      <td>-223093, -107133</td>\n",
              "    </tr>\n",
              "    <tr>\n",
              "      <td>track_popularity</td>\n",
              "      <td>-75, -85, 152, -69, -70, -71, -92</td>\n",
              "    </tr>\n",
              "    <tr>\n",
              "      <td>audio_features.key</td>\n",
              "      <td>11.0</td>\n",
              "    </tr>\n",
              "    <tr>\n",
              "      <td>audio_features.acousticness</td>\n",
              "      <td>-0.00354, 2.0, -0.000537, 5.0, 1.5</td>\n",
              "    </tr>\n",
              "    <tr>\n",
              "      <td>album_total_tracks</td>\n",
              "      <td>Thirteen</td>\n",
              "    </tr>\n",
              "    <tr>\n",
              "      <td>explicit</td>\n",
              "      <td>Si, No</td>\n",
              "    </tr>\n",
              "  </tbody>\n",
              "</table>"
            ],
            "text/plain": [
              "<IPython.core.display.HTML object>"
            ]
          },
          "metadata": {},
          "output_type": "display_data"
        },
        {
          "name": "stdout",
          "output_type": "stream",
          "text": [
            "\n",
            "Cantidad total de valores fuera de rango: 101\n"
          ]
        }
      ],
      "source": [
        "rangos = {\n",
        "    'duration_ms': (0, float('inf')),\n",
        "    'track_popularity': (0, 100),\n",
        "    'audio_features.danceability': (0, 1),\n",
        "    'audio_features.energy': (0, 1),\n",
        "    'audio_features.key': (0, 10),\n",
        "    'audio_features.loudness': (-60, 0),\n",
        "    'audio_features.acousticness': (0, 1),\n",
        "    'audio_features.speechiness': (0, 1),\n",
        "    'audio_features.liveness': (0, 1),\n",
        "    'audio_features.valence': (0, 1),\n",
        "    'audio_features.time_signature': (0, 5),\n",
        "    'album_total_tracks': (8, 46)\n",
        "}\n",
        "\n",
        "criterios_texto = {'explicit': ['True', 'False']}\n",
        "\n",
        "valores_fuera_de_rango = {}\n",
        "\n",
        "for columna, rango in rangos.items():\n",
        "    if columna == 'album_total_tracks':\n",
        "        valores_no_numericos = df[~df[columna].astype(str).str.isnumeric()][columna].tolist()\n",
        "        valores_concatenados_no_numericos = ', '.join(set(map(str, valores_no_numericos)))\n",
        "\n",
        "        if valores_concatenados_no_numericos:\n",
        "            valores_fuera_de_rango[columna] = valores_concatenados_no_numericos\n",
        "    else:\n",
        "        valores_fuera = df[(df[columna] < rango[0]) | (df[columna] > rango[1])][columna].tolist()\n",
        "        valores_concatenados = ', '.join(set(map(str, valores_fuera)))\n",
        "\n",
        "        if valores_concatenados:\n",
        "            valores_fuera_de_rango[columna] = valores_concatenados\n",
        "\n",
        "for columna, criterios in criterios_texto.items():\n",
        "    valores_fuera_texto = df[~df[columna].isin(criterios)][columna].tolist()\n",
        "\n",
        "    valores_concatenados = ', '.join(set(map(str, valores_fuera_texto)))\n",
        "\n",
        "    if valores_concatenados:\n",
        "        valores_fuera_de_rango[columna] = valores_concatenados\n",
        "\n",
        "df_valores_fuera_rango = pd.DataFrame(list(valores_fuera_de_rango.items()), columns=['Columna', 'Valores Fuera de Rango'])\n",
        "\n",
        "html_str = df_valores_fuera_rango.to_html(index=False)\n",
        "\n",
        "display(HTML(html_str))\n",
        "\n",
        "total_fuera_rango = sum(len(valores) for valores in valores_fuera_de_rango.values())\n",
        "\n",
        "print(f'\\nCantidad total de valores fuera de rango: {total_fuera_rango}')"
      ]
    },
    {
      "cell_type": "markdown",
      "metadata": {
        "id": "TBvgPFeXeTWo"
      },
      "source": [
        "## 4. Malas prácticas"
      ]
    },
    {
      "cell_type": "code",
      "execution_count": 7,
      "metadata": {
        "id": "nn_FRt5Lebk-"
      },
      "outputs": [],
      "source": [
        "df_caracteres = pd.DataFrame(columns=['Caracter Especial', 'Columnas'])\n",
        "\n",
        "for caracter in ['_', '.']:\n",
        "    columnas_con_caracter = [columna for columna in df.columns if caracter in columna]\n",
        "    df_caracteres = pd.concat([df_caracteres, pd.DataFrame({'Caracter Especial': caracter, 'Columnas': [columnas_con_caracter]})], ignore_index=True)\n"
      ]
    },
    {
      "cell_type": "markdown",
      "metadata": {
        "id": "R7gm0H7leePX"
      },
      "source": [
        "El uso de caracteres especiales en los títulos de columnas en una base de datos puede afectar la legibilidad y disminuir el puntaje de la base de datos por prácticas de código innadecuadas. Es esencial mantener la consistencia y evitar caracteres que puedan dificultar la importación de la data y interpretación del código en SQL."
      ]
    },
    {
      "cell_type": "code",
      "execution_count": 8,
      "metadata": {
        "colab": {
          "base_uri": "https://localhost:8080/",
          "height": 268
        },
        "id": "oTj9bsL2fnxl",
        "outputId": "3974129f-7fc3-4d49-b024-a7b2fa441af2"
      },
      "outputs": [
        {
          "data": {
            "text/html": [
              "<table border=\"1\" class=\"dataframe\">\n",
              "  <thead>\n",
              "    <tr style=\"text-align: right;\">\n",
              "      <th>Caracter Especial</th>\n",
              "      <th>Columnas</th>\n",
              "    </tr>\n",
              "  </thead>\n",
              "  <tbody>\n",
              "    <tr>\n",
              "      <td>_</td>\n",
              "      <td>[disc_number, duration_ms, track_number, track_popularity, track_id, track_name, audio_features.danceability, audio_features.energy, audio_features.key, audio_features.loudness, audio_features.mode, audio_features.speechiness, audio_features.acousticness, audio_features.instrumentalness, audio_features.liveness, audio_features.valence, audio_features.tempo, audio_features.id, audio_features.time_signature, artist_id, artist_name, artist_popularity, album_id, album_name, album_release_date, album_total_tracks]</td>\n",
              "    </tr>\n",
              "    <tr>\n",
              "      <td>.</td>\n",
              "      <td>[audio_features.danceability, audio_features.energy, audio_features.key, audio_features.loudness, audio_features.mode, audio_features.speechiness, audio_features.acousticness, audio_features.instrumentalness, audio_features.liveness, audio_features.valence, audio_features.tempo, audio_features.id, audio_features.time_signature]</td>\n",
              "    </tr>\n",
              "  </tbody>\n",
              "</table>"
            ],
            "text/plain": [
              "<IPython.core.display.HTML object>"
            ]
          },
          "metadata": {},
          "output_type": "display_data"
        },
        {
          "name": "stdout",
          "output_type": "stream",
          "text": [
            "\n",
            "Cantidad total columnas con carácteres especiales: 26\n"
          ]
        }
      ],
      "source": [
        "html_str = df_caracteres.to_html(index=False)\n",
        "\n",
        "display(HTML(html_str))\n",
        "\n",
        "total_malas_practicas = len(set(df_caracteres['Columnas'].explode()))\n",
        "print(f'\\nCantidad total columnas con carácteres especiales: {total_malas_practicas}')"
      ]
    },
    {
      "cell_type": "markdown",
      "metadata": {
        "id": "nQTM8UbGgtX6"
      },
      "source": [
        "## 5. Uso ineficiente del almacenamiento"
      ]
    },
    {
      "cell_type": "code",
      "execution_count": 9,
      "metadata": {
        "id": "uEW4c2F2gxVk"
      },
      "outputs": [],
      "source": [
        "columna1 = 'track_id'\n",
        "columna2 = 'audio_features.id'\n",
        "\n",
        "filas_iguales = df[(~df[columna1].isnull()) & (~df[columna2].isnull())]\n",
        "\n",
        "mostrar_columnas = [columna1, columna2]\n",
        "ejemplos_filas = filas_iguales[mostrar_columnas].head(10)\n",
        "\n",
        "df_ejemplos = pd.DataFrame(ejemplos_filas, columns=mostrar_columnas)"
      ]
    },
    {
      "cell_type": "markdown",
      "metadata": {
        "id": "o1JOFLY3FvwD"
      },
      "source": [
        "Los datos de las columnas **track_id y audio_features.id** presentan una concordancia del 98%, indicando que la mayoría de la información es idéntica. El 2% restante corresponde a valores nulos en la columna **track_id**. Este grado de similitud sugiere una redundancia en el almacenamiento de la información, ya que ambos identificadores contienen en gran medida datos duplicados. A continuación se representan algunos ejemplos de ello:"
      ]
    },
    {
      "cell_type": "code",
      "execution_count": 10,
      "metadata": {
        "colab": {
          "base_uri": "https://localhost:8080/",
          "height": 398
        },
        "id": "uyErEkChGv_5",
        "outputId": "0b99a7a2-450f-494f-99c2-e0ee0d1b020f"
      },
      "outputs": [
        {
          "data": {
            "text/html": [
              "<table border=\"1\" class=\"dataframe\">\n",
              "  <thead>\n",
              "    <tr style=\"text-align: right;\">\n",
              "      <th>track_id</th>\n",
              "      <th>audio_features.id</th>\n",
              "    </tr>\n",
              "  </thead>\n",
              "  <tbody>\n",
              "    <tr>\n",
              "      <td>4WUepByoeqcedHoYhSNHRt</td>\n",
              "      <td>4WUepByoeqcedHoYhSNHRt</td>\n",
              "    </tr>\n",
              "    <tr>\n",
              "      <td>0108kcWLnn2HlH2kedi1gn</td>\n",
              "      <td>0108kcWLnn2HlH2kedi1gn</td>\n",
              "    </tr>\n",
              "    <tr>\n",
              "      <td>3Vpk1hfMAQme8VJ0SNRSkd</td>\n",
              "      <td>3Vpk1hfMAQme8VJ0SNRSkd</td>\n",
              "    </tr>\n",
              "    <tr>\n",
              "      <td>1OcSfkeCg9hRC2sFKB4IMJ</td>\n",
              "      <td>1OcSfkeCg9hRC2sFKB4IMJ</td>\n",
              "    </tr>\n",
              "    <tr>\n",
              "      <td>2k0ZEeAqzvYMcx9Qt5aClQ</td>\n",
              "      <td>2k0ZEeAqzvYMcx9Qt5aClQ</td>\n",
              "    </tr>\n",
              "    <tr>\n",
              "      <td>50yNTF0Od55qnHLxYsA5Pw</td>\n",
              "      <td>50yNTF0Od55qnHLxYsA5Pw</td>\n",
              "    </tr>\n",
              "    <tr>\n",
              "      <td>3FxJDucHWdw6caWTKO5b23</td>\n",
              "      <td>3FxJDucHWdw6caWTKO5b23</td>\n",
              "    </tr>\n",
              "    <tr>\n",
              "      <td>7oZONwFiFIErZcXAtTu7FY</td>\n",
              "      <td>7oZONwFiFIErZcXAtTu7FY</td>\n",
              "    </tr>\n",
              "    <tr>\n",
              "      <td>27exgla7YBw9DUNNcTIpjy</td>\n",
              "      <td>27exgla7YBw9DUNNcTIpjy</td>\n",
              "    </tr>\n",
              "    <tr>\n",
              "      <td>733OhaXQIHY7BKtY3vnSkn</td>\n",
              "      <td>733OhaXQIHY7BKtY3vnSkn</td>\n",
              "    </tr>\n",
              "  </tbody>\n",
              "</table>"
            ],
            "text/plain": [
              "<IPython.core.display.HTML object>"
            ]
          },
          "metadata": {},
          "output_type": "display_data"
        },
        {
          "name": "stdout",
          "output_type": "stream",
          "text": [
            "\n",
            "Cantidad total de valores iguales en las columnas track_id y audio_features.id: 531 de 539\n"
          ]
        }
      ],
      "source": [
        "html_str = df_ejemplos.to_html(index=False)\n",
        "\n",
        "display(HTML(html_str))\n",
        "\n",
        "total_filas_iguales = len(filas_iguales)\n",
        "\n",
        "print(f'\\nCantidad total de valores iguales en las columnas {columna1} y {columna2}: {total_filas_iguales} de {len(df)}')"
      ]
    },
    {
      "cell_type": "markdown",
      "metadata": {
        "id": "kfUDHqwvIUfa"
      },
      "source": [
        "#**Impacto**"
      ]
    },
    {
      "cell_type": "code",
      "execution_count": 11,
      "metadata": {
        "colab": {
          "base_uri": "https://localhost:8080/",
          "height": 409
        },
        "id": "R9juLs7iIX2j",
        "outputId": "f5231c43-aceb-47fb-82c4-58936b766455"
      },
      "outputs": [
        {
          "data": {
            "image/png": "[encoded data removed]",
            "text/plain": [
              "<Figure size 1400x600 with 1 Axes>"
            ]
          },
          "metadata": {},
          "output_type": "display_data"
        }
      ],
      "source": [
        "import matplotlib.pyplot as plt\n",
        "\n",
        "porcentaje_valores_vacios = round((total_nulos / len(df)) * 100, 3)\n",
        "porcentaje_valores_duplicados = round((total_duplicados / len(df)) * 100, 3)\n",
        "porcentaje_valores_fuera_rango = round((total_fuera_rango / len(df)) * 100, 3)\n",
        "porcentaje_valores_malas_practicas = round((total_malas_practicas / len(df)) * 100, 3)\n",
        "porcentaje_valores_almacenamiento = round((total_filas_iguales / len(df)) * 100, 3)\n",
        "\n",
        "porcentajes_agrupados = [porcentaje_valores_vacios, porcentaje_valores_duplicados, porcentaje_valores_fuera_rango, porcentaje_valores_malas_practicas, porcentaje_valores_almacenamiento]\n",
        "\n",
        "columnas = ['Valores Vacíos', 'Valores Duplicados', 'Valores Fuera de Rango', 'Malas Prácticas', 'Uso Ineficiente del Almacenamiento']\n",
        "\n",
        "porcentajes_ordenados, nombres_ordenados = zip(*sorted(zip(porcentajes_agrupados, columnas), reverse=False))\n",
        "\n",
        "fig, ax = plt.subplots(figsize=(14, 6))\n",
        "bars = ax.barh(nombres_ordenados, porcentajes_ordenados, color=['blue', 'green', 'red', 'purple', 'orange'])\n",
        "ax.set_xlabel('Porcentaje de Afectación')\n",
        "ax.set_title('Porcentajes de Afectación en el Dataset')\n",
        "\n",
        "ax.tick_params(axis='y', labelsize=8)\n",
        "\n",
        "for bar in bars:\n",
        "    plt.text(bar.get_width(), bar.get_y() + bar.get_height() / 2, f'{bar.get_width()}%',\n",
        "             va='center', ha='left', fontsize=8, color='black')\n",
        "\n",
        "plt.show()"
      ]
    },
    {
      "cell_type": "markdown",
      "metadata": {
        "id": "wShYHjTgauRJ"
      },
      "source": [
        "#**Conclusiones**"
      ]
    },
    {
      "cell_type": "code",
      "execution_count": 12,
      "metadata": {
        "colab": {
          "base_uri": "https://localhost:8080/"
        },
        "id": "MKKjM_OyaLsq",
        "outputId": "a1744346-b48a-48da-ea5f-748b1a51abb8"
      },
      "outputs": [
        {
          "name": "stdout",
          "output_type": "stream",
          "text": [
            "\n",
            "Un 16.512% de celdas vacías ha sido identificado en diversas columnas, afectando la integridad de los análisis al limitar la disponibilidad de datos completos.\n",
            "\n",
            "Un 3.711% de registros duplicados ha sido detectado, sugiriendo posibles irregularidades en la recolección de datos y comprometiendo la unicidad de identificadores de pistas.\n",
            "\n",
            "Un 18.738% de registros presenta valores atípicos que están fuera de los rangos definidos, lo que podría impactar la validez de los análisis al introducir datos inesperados.\n",
            "\n",
            "Un 4.824% de las columnas utiliza caracteres especiales en sus nombres, afectando la legibilidad del código SQL y disminuyendo la calidad de la base de datos.\n",
            "\n",
            "Un 98.516% de similitud entre las columnas 'track_id' y 'audio_features.id' indica un uso ineficiente del almacenamiento, redundancia en la información y posibles oportunidades de optimización.\n",
            "\n",
            "Porcentaje general de impacto: 28.46 %\n"
          ]
        }
      ],
      "source": [
        "print(f\"\\nUn {porcentaje_valores_vacios}% de celdas vacías ha sido identificado en diversas columnas, afectando la integridad de los análisis al limitar la disponibilidad de datos completos.\")\n",
        "print(f\"\\nUn {porcentaje_valores_duplicados}% de registros duplicados ha sido detectado, sugiriendo posibles irregularidades en la recolección de datos y comprometiendo la unicidad de identificadores de pistas.\")\n",
        "print(f\"\\nUn {porcentaje_valores_fuera_rango}% de registros presenta valores atípicos que están fuera de los rangos definidos, lo que podría impactar la validez de los análisis al introducir datos inesperados.\")\n",
        "print(f\"\\nUn {porcentaje_valores_malas_practicas}% de las columnas utiliza caracteres especiales en sus nombres, afectando la legibilidad del código SQL y disminuyendo la calidad de la base de datos.\")\n",
        "print(f\"\\nUn {porcentaje_valores_almacenamiento}% de similitud entre las columnas 'track_id' y 'audio_features.id' indica un uso ineficiente del almacenamiento, redundancia en la información y posibles oportunidades de optimización.\")\n",
        "\n",
        "\n",
        "porcentaje_general_impacto = round(sum(porcentajes_agrupados) / len(porcentajes_agrupados), 3)\n",
        "print(f'\\nPorcentaje general de impacto: {porcentaje_general_impacto} %')"
      ]
    }
  ],
  "metadata": {
    "colab": {
      "provenance": []
    },
    "kernelspec": {
      "display_name": "Python 3",
      "name": "python3"
    },
    "language_info": {
      "codemirror_mode": {
        "name": "ipython",
        "version": 3
      },
      "file_extension": ".py",
      "mimetype": "text/x-python",
      "name": "python",
      "nbconvert_exporter": "python",
      "pygments_lexer": "ipython3",
      "version": "3.10.0"
    }
  },
  "nbformat": 4,
  "nbformat_minor": 0
}
